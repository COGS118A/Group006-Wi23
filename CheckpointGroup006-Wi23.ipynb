{
 "cells": [
  {
   "cell_type": "markdown",
   "metadata": {
    "cell_id": "e80aaea1fcef4387bde6e2cdb341e7e0",
    "deepnote_cell_type": "markdown"
   },
   "source": [
    "# COGS 118A - Project Checkpoint - Used Car Valuation Tool"
   ]
  },
  {
   "cell_type": "markdown",
   "metadata": {
    "cell_id": "23c623d4125542198c609ef437e022c1",
    "deepnote_cell_type": "markdown"
   },
   "source": [
    "# Names\n",
    "\n",
    "- Zhuotong Xie (Tom)\n",
    "- Jiawen Wang (Coco)\n",
    "- Sally Yu\n",
    "- Gaoying Wang\n"
   ]
  },
  {
   "cell_type": "markdown",
   "metadata": {
    "cell_id": "e19669843ec24435941917c1bed820ae",
    "deepnote_cell_type": "markdown"
   },
   "source": [
    "# Abstract \n",
    "Our project is aiming to give Audi owners a reasonable prediction about the selling price of their Audi cars. It could also be helpful for Audi lovers who have specific requirements for a used Audi car. We use the UK Used Car Dataset from kaggle and we focus on only Audi made. There are many features like mileage , year of registration and model. Most importantly, there is a price column in the dataset for us to split the training and testing. All the data variables are measured by the official British market, and all legal cars in the market would have the precize record for their features. Our project would mainly rely on polynomial regression to discover the complicated relationship between other features and prices. In addition, for certain features like model of car, we would use one-hot encoding to make categorical features normalized. Lastly, to check the prediction accuracy of our project, we made an evaluation metric which allows the MSE between prediction and actual price to be less than 200^2.  For the overall performance, we built another metric to set our goal of the correct rate being 75%(prediction within actual +/-200)."
   ]
  },
  {
   "cell_type": "markdown",
   "metadata": {
    "cell_id": "e7430f2745b1455f9fb8943a5ba6c66c",
    "deepnote_cell_type": "markdown"
   },
   "source": [
    "# Background\n",
    "\n",
    "Car valuation websites have been around for several decades, and have evolved and improved significantly over time. The first car valuation guides were published in book form, and were typically used by car dealerships and other professionals in the automotive industry. An example is The Kelley Blue Book, which was first published in 1926 as a guide for car dealers to determine the value of trade-ins.\n",
    "\n",
    "\n",
    "In the early days, when selling a used car to a dealership, “automotive industry professionals check the vehicle’s history report and make an unscientific, educated guess as to its impact on the vehicle’s value.”<a name=\"blackbook\"></a>[<sup>[1]</sup>](#blackbook). This valuation process is subjective and problematic, and often leads to inaccurate estimations. As a solution, online car valuation sites began to emerge towards the late 90s. These tools typically required users to input basic information about a car, such as its make, model, year, and mileage, to generate an estimated value. These early online valuation tools were relatively simple and could only provide a rough estimate of the value of cars. \n",
    "\n",
    "\n",
    "As the Internet became more widespread and technology began to develop, the number of online car valuation tools grew markedly. In today’s world, there are numerous websites and apps that offer free and easily-accessible car valuation services, such as Kelley Blue Book, Cargurus, Edmunds, and Carfax, just to name a few. These tools have grown to be more elaborate and complex over time, utilizing machine learning algorithms and other techniques to produce more accurate estimates of a car's value <a name=\"Bukvić\"></a>[<sup>[3]</sup>](#Bukvić).\n",
    "\n",
    "\n",
    "Nowadays, car valuation websites have become an essential resource for people looking to buy or sell a used car. They provide potential buyers and sellers a good estimate of the value of a particular type of car, which can be useful in negotiating with dealerships or private sellers, and ensure them that they are getting a fair price. \n",
    "In recent years especially, used cars sales are on the rise on a global scale due to the increased price of new cars. There is a growing need for used car price prediction system that can effectively determine the worthiness of the car using a variety of features <a name=\"Gokce\"></a>[<sup>[2]</sup>](#Gokce). \n",
    "\n",
    "\n",
    "Even with continued advances, there are still issues with these valuation tools, namely the lack of transparency <a name=\"Daneshjou\"></a>[<sup>[4]</sup>](#Daneshjou) and limitation in data on certain models and makes of cars. In this project, we hope to build a model that can not only accurately predict the value of used Audi cars, but also provide a outline of how the algorithm arrives at its estimates so that users are able to understand the whole process. In addition, we decided to focus on Audi cars only so that we can explore the potential of particular features or built of Audi cars that may allow us to further optimize the accuracy of our predictions. \n",
    "\n",
    "\n"
   ]
  },
  {
   "cell_type": "markdown",
   "metadata": {
    "cell_id": "0ab04637738a410f895df7520435e560",
    "deepnote_cell_type": "markdown"
   },
   "source": [
    "# Problem Statement\n",
    "\n",
    "The main issues with car valuation tools that we want to address in this project are the lack of transparency in algorithms and the limitation in the type of data used to make price predictions. Many of the car valuation sites and apps provide an easy way for people to input a few basic information about a certain car, such as the model, make, and year, and instantly give out a value estimate. Although it is very convenient, these tools don’t provide users with an explanation of how the algorithm arrives at its estimate nor how accurate the estimation is likely. Furthermore, using only a few basic features, these algorithms are unlikely to capture the whole picture of each car in order to make high-accuracy predictions."
   ]
  },
  {
   "cell_type": "markdown",
   "metadata": {
    "cell_id": "071a61d4eb074af6bbd031216b319dba",
    "deepnote_cell_type": "markdown"
   },
   "source": [
    "# Data\n",
    "\n",
    "#### UK Used Cars Dataset:\n",
    "https://www.kaggle.com/datasets/adityadesai13/used-car-dataset-ford-and-mercedes <br>\n",
    "(10668 observations and 9 variables) \n",
    "\n",
    "\n",
    "The dataset we downloaded contains several used car data in the UK in the past decade. There are different car makes in the dataset but we are mainly focusing on the Audi cars since we want to build a precise predictive model for the sellers and buyers that are interested in Audi used cars.\n",
    "\n",
    "\n",
    "The dataset contains 10668 observations and 9 variables, the 9 variables are model, year, price, transmission, mileage, fuel type, tax, mpg, and engine size, for the future machine learning processes, we will discard the tax since it is not helpful when predicting a used car’s value. \n",
    "We will use more datasets about Audi cars if we can find any that can improve our prediction.\n"
   ]
  },
  {
   "cell_type": "code",
   "execution_count": 4,
   "metadata": {
    "cell_id": "136e6920983d4badb61a37a7d8de1e95",
    "deepnote_cell_type": "code",
    "deepnote_to_be_reexecuted": false,
    "execution_millis": 36,
    "execution_start": 1678324656946,
    "source_hash": "7adde2c6",
    "tags": []
   },
   "outputs": [
    {
     "data": {
      "text/html": [
       "<div>\n",
       "<style scoped>\n",
       "    .dataframe tbody tr th:only-of-type {\n",
       "        vertical-align: middle;\n",
       "    }\n",
       "\n",
       "    .dataframe tbody tr th {\n",
       "        vertical-align: top;\n",
       "    }\n",
       "\n",
       "    .dataframe thead th {\n",
       "        text-align: right;\n",
       "    }\n",
       "</style>\n",
       "<table border=\"1\" class=\"dataframe\">\n",
       "  <thead>\n",
       "    <tr style=\"text-align: right;\">\n",
       "      <th></th>\n",
       "      <th>model</th>\n",
       "      <th>year</th>\n",
       "      <th>price</th>\n",
       "      <th>transmission</th>\n",
       "      <th>mileage</th>\n",
       "      <th>fuelType</th>\n",
       "      <th>tax</th>\n",
       "      <th>mpg</th>\n",
       "      <th>engineSize</th>\n",
       "    </tr>\n",
       "  </thead>\n",
       "  <tbody>\n",
       "    <tr>\n",
       "      <th>0</th>\n",
       "      <td>A1</td>\n",
       "      <td>2017</td>\n",
       "      <td>12500</td>\n",
       "      <td>Manual</td>\n",
       "      <td>15735</td>\n",
       "      <td>Petrol</td>\n",
       "      <td>150</td>\n",
       "      <td>55.4</td>\n",
       "      <td>1.4</td>\n",
       "    </tr>\n",
       "    <tr>\n",
       "      <th>1</th>\n",
       "      <td>A6</td>\n",
       "      <td>2016</td>\n",
       "      <td>16500</td>\n",
       "      <td>Automatic</td>\n",
       "      <td>36203</td>\n",
       "      <td>Diesel</td>\n",
       "      <td>20</td>\n",
       "      <td>64.2</td>\n",
       "      <td>2.0</td>\n",
       "    </tr>\n",
       "    <tr>\n",
       "      <th>2</th>\n",
       "      <td>A1</td>\n",
       "      <td>2016</td>\n",
       "      <td>11000</td>\n",
       "      <td>Manual</td>\n",
       "      <td>29946</td>\n",
       "      <td>Petrol</td>\n",
       "      <td>30</td>\n",
       "      <td>55.4</td>\n",
       "      <td>1.4</td>\n",
       "    </tr>\n",
       "    <tr>\n",
       "      <th>3</th>\n",
       "      <td>A4</td>\n",
       "      <td>2017</td>\n",
       "      <td>16800</td>\n",
       "      <td>Automatic</td>\n",
       "      <td>25952</td>\n",
       "      <td>Diesel</td>\n",
       "      <td>145</td>\n",
       "      <td>67.3</td>\n",
       "      <td>2.0</td>\n",
       "    </tr>\n",
       "    <tr>\n",
       "      <th>4</th>\n",
       "      <td>A3</td>\n",
       "      <td>2019</td>\n",
       "      <td>17300</td>\n",
       "      <td>Manual</td>\n",
       "      <td>1998</td>\n",
       "      <td>Petrol</td>\n",
       "      <td>145</td>\n",
       "      <td>49.6</td>\n",
       "      <td>1.0</td>\n",
       "    </tr>\n",
       "  </tbody>\n",
       "</table>\n",
       "</div>"
      ],
      "text/plain": [
       "  model  year  price transmission  mileage fuelType  tax   mpg  engineSize\n",
       "0    A1  2017  12500       Manual    15735   Petrol  150  55.4         1.4\n",
       "1    A6  2016  16500    Automatic    36203   Diesel   20  64.2         2.0\n",
       "2    A1  2016  11000       Manual    29946   Petrol   30  55.4         1.4\n",
       "3    A4  2017  16800    Automatic    25952   Diesel  145  67.3         2.0\n",
       "4    A3  2019  17300       Manual     1998   Petrol  145  49.6         1.0"
      ]
     },
     "execution_count": 4,
     "metadata": {},
     "output_type": "execute_result"
    }
   ],
   "source": [
    "import pandas as pd\n",
    "audi = pd.read_csv('audi.csv')\n",
    "audi.head()"
   ]
  },
  {
   "cell_type": "code",
   "execution_count": 5,
   "metadata": {
    "cell_id": "38b7d321f90c461f979e17db0a30944e",
    "deepnote_cell_type": "code",
    "deepnote_to_be_reexecuted": false,
    "execution_millis": 1461,
    "execution_start": 1678324657019,
    "source_hash": "eab242db",
    "tags": []
   },
   "outputs": [],
   "source": [
    "import numpy as np\n",
    "import pandas as pd\n",
    "import matplotlib.pyplot as plt\n",
    "import scipy.stats as stats #import packages"
   ]
  },
  {
   "cell_type": "markdown",
   "metadata": {
    "cell_id": "fbdcb32818bc41658cdcc6f544e3ec88",
    "deepnote_cell_type": "text-cell-p",
    "formattedRanges": [],
    "is_collapsed": false,
    "tags": []
   },
   "source": [
    "From the background research, we found that there is a road tax in the UK. This feature is very\n",
    " flexible, and it has a trivial relationship with the price of used cars in the whole market. Thus, we\n",
    " decided to get rid of the column tax to make our features more relevant to the used car price."
   ]
  },
  {
   "cell_type": "code",
   "execution_count": 6,
   "metadata": {
    "cell_id": "00b4f14f27f647da9ece431e39f15a77",
    "deepnote_cell_type": "code",
    "deepnote_table_loading": false,
    "deepnote_table_state": {
     "filters": [],
     "pageIndex": 2,
     "pageSize": 10,
     "sortBy": []
    },
    "deepnote_to_be_reexecuted": false,
    "execution_millis": 28,
    "execution_start": 1678324658453,
    "source_hash": "3142fe62",
    "tags": []
   },
   "outputs": [
    {
     "data": {
      "text/html": [
       "<div>\n",
       "<style scoped>\n",
       "    .dataframe tbody tr th:only-of-type {\n",
       "        vertical-align: middle;\n",
       "    }\n",
       "\n",
       "    .dataframe tbody tr th {\n",
       "        vertical-align: top;\n",
       "    }\n",
       "\n",
       "    .dataframe thead th {\n",
       "        text-align: right;\n",
       "    }\n",
       "</style>\n",
       "<table border=\"1\" class=\"dataframe\">\n",
       "  <thead>\n",
       "    <tr style=\"text-align: right;\">\n",
       "      <th></th>\n",
       "      <th>model</th>\n",
       "      <th>year</th>\n",
       "      <th>price</th>\n",
       "      <th>transmission</th>\n",
       "      <th>mileage</th>\n",
       "      <th>fuelType</th>\n",
       "      <th>mpg</th>\n",
       "      <th>engineSize</th>\n",
       "    </tr>\n",
       "  </thead>\n",
       "  <tbody>\n",
       "    <tr>\n",
       "      <th>0</th>\n",
       "      <td>A1</td>\n",
       "      <td>2017</td>\n",
       "      <td>12500</td>\n",
       "      <td>Manual</td>\n",
       "      <td>15735</td>\n",
       "      <td>Petrol</td>\n",
       "      <td>55.4</td>\n",
       "      <td>1.4</td>\n",
       "    </tr>\n",
       "    <tr>\n",
       "      <th>1</th>\n",
       "      <td>A6</td>\n",
       "      <td>2016</td>\n",
       "      <td>16500</td>\n",
       "      <td>Automatic</td>\n",
       "      <td>36203</td>\n",
       "      <td>Diesel</td>\n",
       "      <td>64.2</td>\n",
       "      <td>2.0</td>\n",
       "    </tr>\n",
       "    <tr>\n",
       "      <th>2</th>\n",
       "      <td>A1</td>\n",
       "      <td>2016</td>\n",
       "      <td>11000</td>\n",
       "      <td>Manual</td>\n",
       "      <td>29946</td>\n",
       "      <td>Petrol</td>\n",
       "      <td>55.4</td>\n",
       "      <td>1.4</td>\n",
       "    </tr>\n",
       "    <tr>\n",
       "      <th>3</th>\n",
       "      <td>A4</td>\n",
       "      <td>2017</td>\n",
       "      <td>16800</td>\n",
       "      <td>Automatic</td>\n",
       "      <td>25952</td>\n",
       "      <td>Diesel</td>\n",
       "      <td>67.3</td>\n",
       "      <td>2.0</td>\n",
       "    </tr>\n",
       "    <tr>\n",
       "      <th>4</th>\n",
       "      <td>A3</td>\n",
       "      <td>2019</td>\n",
       "      <td>17300</td>\n",
       "      <td>Manual</td>\n",
       "      <td>1998</td>\n",
       "      <td>Petrol</td>\n",
       "      <td>49.6</td>\n",
       "      <td>1.0</td>\n",
       "    </tr>\n",
       "  </tbody>\n",
       "</table>\n",
       "</div>"
      ],
      "text/plain": [
       "  model  year  price transmission  mileage fuelType   mpg  engineSize\n",
       "0    A1  2017  12500       Manual    15735   Petrol  55.4         1.4\n",
       "1    A6  2016  16500    Automatic    36203   Diesel  64.2         2.0\n",
       "2    A1  2016  11000       Manual    29946   Petrol  55.4         1.4\n",
       "3    A4  2017  16800    Automatic    25952   Diesel  67.3         2.0\n",
       "4    A3  2019  17300       Manual     1998   Petrol  49.6         1.0"
      ]
     },
     "execution_count": 6,
     "metadata": {},
     "output_type": "execute_result"
    }
   ],
   "source": [
    "audi = audi.drop(columns = ['tax'])\n",
    "audi = audi.loc[audi['model'] != 'A2']\n",
    "audi = audi.loc[audi['model'] != 'RS7']\n",
    "audi.head()\n"
   ]
  },
  {
   "cell_type": "markdown",
   "metadata": {
    "cell_id": "697a9fe7217148eca64d078cd75f8c49",
    "deepnote_cell_type": "text-cell-p",
    "formattedRanges": [],
    "is_collapsed": false,
    "tags": []
   },
   "source": [
    "We can use graphs to show the possible relationships between numerical features and price. For example, normal distribution curves can be used to see the possible relationship between mileage and price."
   ]
  },
  {
   "cell_type": "code",
   "execution_count": 4,
   "metadata": {
    "cell_id": "7c020a9f17774f12b396b165be18a6ae",
    "deepnote_cell_type": "code",
    "deepnote_to_be_reexecuted": false,
    "execution_millis": 338,
    "execution_start": 1678324658482,
    "source_hash": "31d86791",
    "tags": []
   },
   "outputs": [
    {
     "data": {
      "image/png": "[encoded data removed]",
      "text/plain": [
       "<Figure size 640x480 with 1 Axes>"
      ]
     },
     "metadata": {
      "image/png": {
       "height": 452,
       "width": 571
      }
     },
     "output_type": "display_data"
    }
   ],
   "source": [
    "df_mean_p = np.mean(audi['price'])\n",
    "df_std_p = np.std(audi['price'])\n",
    "df_mean_m = np.mean(audi['mileage'])\n",
    "df_std_m = np.std(audi['mileage'])\n",
    " \n",
    "# Calculating probability density function (PDF)\n",
    "pdf_m = stats.norm.pdf(audi['mileage'].sort_values(), df_mean_m, df_std_m)\n",
    "pdf_p = stats.norm.pdf(audi['price'].sort_values(), df_mean_p, df_std_p)\n",
    "\n",
    "# Drawing a graph\n",
    "plt.plot(audi['mileage'].sort_values(), pdf_m, label = 'mileage') \n",
    "plt.plot(audi['price'].sort_values(), pdf_p, label = 'price') \n",
    "plt.legend()\n",
    "plt.xlabel(\"Price and Mileage\", size=12)    \n",
    "plt.ylabel(\"Frequency\", size=12)                \n",
    "plt.grid(True, alpha=0.7, linestyle=\"--\")\n",
    "plt.show()"
   ]
  },
  {
   "cell_type": "markdown",
   "metadata": {
    "cell_id": "e3dbd1d092c9431286a02b2939f02cca",
    "deepnote_cell_type": "text-cell-p",
    "formattedRanges": [],
    "is_collapsed": false,
    "tags": []
   },
   "source": [
    "Plots for categorical features:"
   ]
  },
  {
   "cell_type": "code",
   "execution_count": 5,
   "metadata": {
    "cell_id": "72d37b64998e4f90a9bf65fdd802816c",
    "deepnote_cell_type": "code",
    "deepnote_to_be_reexecuted": false,
    "execution_millis": 1610,
    "execution_start": 1678324658867,
    "source_hash": "e658693c",
    "tags": []
   },
   "outputs": [
    {
     "data": {
      "image/png": "[encoded data removed]",
      "text/plain": [
       "<Figure size 600x400 with 1 Axes>"
      ]
     },
     "metadata": {
      "image/png": {
       "height": 392,
       "width": 558
      }
     },
     "output_type": "display_data"
    },
    {
     "data": {
      "image/png": "[encoded data removed]",
      "text/plain": [
       "<Figure size 600x400 with 1 Axes>"
      ]
     },
     "metadata": {
      "image/png": {
       "height": 390,
       "width": 566
      }
     },
     "output_type": "display_data"
    },
    {
     "data": {
      "image/png": "[encoded data removed]",
      "text/plain": [
       "<Figure size 600x400 with 1 Axes>"
      ]
     },
     "metadata": {
      "image/png": {
       "height": 428,
       "width": 558
      }
     },
     "output_type": "display_data"
    },
    {
     "data": {
      "image/png": "[encoded data removed]",
      "text/plain": [
       "<Figure size 600x400 with 1 Axes>"
      ]
     },
     "metadata": {
      "image/png": {
       "height": 403,
       "width": 558
      }
     },
     "output_type": "display_data"
    },
    {
     "data": {
      "image/png": "[encoded data removed]",
      "text/plain": [
       "<Figure size 600x400 with 1 Axes>"
      ]
     },
     "metadata": {
      "image/png": {
       "height": 379,
       "width": 566
      }
     },
     "output_type": "display_data"
    }
   ],
   "source": [
    "for col in ['year', 'model', 'transmission', 'fuelType', 'engineSize']:\n",
    "    plt.figure(figsize=(6, 4))\n",
    "    audi.groupby(col)['price'].mean().sort_values().plot(kind='bar')\n",
    "    plt.xlabel(col)\n",
    "    plt.ylabel('price')"
   ]
  },
  {
   "cell_type": "markdown",
   "metadata": {
    "cell_id": "bc4e69b074044d48a421d7c636af215b",
    "deepnote_cell_type": "text-cell-p",
    "formattedRanges": [],
    "is_collapsed": false,
    "tags": []
   },
   "source": [
    "Plots for numerical features:"
   ]
  },
  {
   "cell_type": "code",
   "execution_count": 6,
   "metadata": {
    "cell_id": "193ce334a0c2457b999a67bace36efd3",
    "deepnote_cell_type": "code",
    "deepnote_to_be_reexecuted": false,
    "execution_millis": 459,
    "execution_start": 1678324660479,
    "source_hash": "5e89fe12",
    "tags": []
   },
   "outputs": [
    {
     "data": {
      "image/png": "[encoded data removed]",
      "text/plain": [
       "<Figure size 600x400 with 1 Axes>"
      ]
     },
     "metadata": {
      "image/png": {
       "height": 371,
       "width": 566
      }
     },
     "output_type": "display_data"
    },
    {
     "data": {
      "image/png": "[encoded data removed]",
      "text/plain": [
       "<Figure size 600x400 with 1 Axes>"
      ]
     },
     "metadata": {
      "image/png": {
       "height": 371,
       "width": 566
      }
     },
     "output_type": "display_data"
    }
   ],
   "source": [
    "for col in ['mileage', 'mpg']:\n",
    "    plt.figure(figsize=(6, 4))\n",
    "    plt.scatter(audi[col], audi['price'])\n",
    "    plt.xlabel(col)\n",
    "    plt.ylabel('price')\n",
    "    plt.show()"
   ]
  },
  {
   "cell_type": "code",
   "execution_count": 7,
   "metadata": {
    "cell_id": "d5b6a4ebfc6242c688d07dc2f758e45e",
    "deepnote_cell_type": "code",
    "deepnote_to_be_reexecuted": false,
    "execution_millis": 261,
    "execution_start": 1678324660940,
    "source_hash": "eea54295",
    "tags": []
   },
   "outputs": [
    {
     "data": {
      "text/plain": [
       "<AxesSubplot: xlabel='model', ylabel='price'>"
      ]
     },
     "execution_count": 7,
     "metadata": {},
     "output_type": "execute_result"
    },
    {
     "data": {
      "image/png": "[encoded data removed]",
      "text/plain": [
       "<Figure size 1200x800 with 1 Axes>"
      ]
     },
     "metadata": {
      "image/png": {
       "height": 687,
       "width": 1044
      }
     },
     "output_type": "display_data"
    }
   ],
   "source": [
    "import seaborn as sns\n",
    "sns.set(rc={'figure.figsize':(12,8)})\n",
    "sns.boxplot(data = audi, x = 'model', y = 'price')"
   ]
  },
  {
   "cell_type": "code",
   "execution_count": 7,
   "metadata": {
    "cell_id": "acdccc1672714222b5d8048049241982",
    "deepnote_cell_type": "code",
    "deepnote_table_loading": false,
    "deepnote_table_state": {
     "filters": [],
     "pageIndex": 0,
     "pageSize": 10,
     "sortBy": []
    },
    "deepnote_to_be_reexecuted": false,
    "execution_millis": 14,
    "execution_start": 1678324661596,
    "source_hash": "397d940e",
    "tags": []
   },
   "outputs": [
    {
     "data": {
      "text/plain": [
       "(10668,)"
      ]
     },
     "execution_count": 7,
     "metadata": {},
     "output_type": "execute_result"
    }
   ],
   "source": [
    "#For categorical data like model and fuel type, we want to one-hot encoding these features.\n",
    "onehot_model = pd.get_dummies(audi['model'])\n",
    "onehot_transmission = pd.get_dummies(audi['transmission'])\n",
    "onehot_fuelType = pd.get_dummies(audi['fuelType'])\n",
    "onehot_audi = onehot_model.join(onehot_transmission)\n",
    "onehot_audi = onehot_audi.join(onehot_fuelType)\n",
    "new_audi = onehot_audi.join(audi['year'])\n",
    "new_audi = new_audi.join(audi['mileage'])\n",
    "new_audi = new_audi.join(audi['mpg'])\n",
    "new_audi = new_audi.join(audi['engineSize'])\n",
    "X = np.array(new_audi)\n",
    "y = np.array(audi['price'])\n",
    "y.shape"
   ]
  },
  {
   "cell_type": "code",
   "execution_count": 8,
   "metadata": {
    "cell_id": "c56a7a5386384228bc2eb1cdab6fa3ce",
    "deepnote_cell_type": "code",
    "deepnote_to_be_reexecuted": false,
    "execution_millis": 5,
    "execution_start": 1678324661610,
    "source_hash": "9ae4cc96",
    "tags": []
   },
   "outputs": [
    {
     "name": "stdout",
     "output_type": "stream",
     "text": [
      "Number of features:  36\n"
     ]
    }
   ],
   "source": [
    "print('Number of features: ', len(X[0]))"
   ]
  },
  {
   "cell_type": "markdown",
   "metadata": {
    "cell_id": "bd958afed034410b99da872a2285c131",
    "deepnote_cell_type": "markdown"
   },
   "source": [
    "# Proposed Solution\n",
    "\n",
    "Based on real data collected from the used car market, we will balance several factors and provide a reasonable estimation of car price. Cars can have a wide range of unique features, in the dataset we are using, there are currently 7 factors that may affect car price. If possible, we will try to find more specific data about Audi cars, which may help increase the accuracy of our model in predicting car prices.\n",
    "\n",
    "For the benchmark model, we will be using simple linear regression. Since we assume most features are linearly correlated with price, linear regression as a baseline model should be able to achieve reasonable performance but not the best. In the data exploration step, we will be plotting individual features with price to analyze the shape of the underlying relationships, which will help us determine which model would be more appropriate to use. For example, if the relationship between the model of a car and its price is not linear, but instead has a parabolic or cubic shape, then polynomial regression can capture this non-linear relationship. \n",
    "\n",
    "In order to capture these more complex relationships between the features and price, we will be testing 4 other models, which are ridge regression, lasso regression, random forest, and gradient boosting regressor. In the end, we will also try stacking to see if a combination of several models could achieve a higher performance. For each model, we will select the hyperparameters carefully through gridsearch and make sure that the model is not overfitting using cross-validation techniques. Lastly, since our goal is to reduce the information asymmetry among buyers and sellers, we will provide a detailed explanation of the algorithms, making buyers aware of how the prediction was made. "
   ]
  },
  {
   "cell_type": "markdown",
   "metadata": {
    "cell_id": "69f2070284c24feba2593621e377410f",
    "deepnote_cell_type": "markdown"
   },
   "source": [
    "# Evaluation Metrics\n",
    "\n",
    "\n",
    "- We will be using MSE as one of the evaluation metrics. The reason why we come up with the idea of MSE is that we do not want the absolute difference between our predicted car price and the actual car price to be more than 200 euros. So, if the final MSE of the model is smaller than 200^2  = 40000, then the model reaches our satisfaction.\n",
    "\n",
    "\n",
    "- We also developed our own metric for this model. Since we do not want the absolute difference between the predicted car price and the actual car price to be more than 200, we can first calculate the absolute price difference and see what percentage of the results satisfy our requirement. If we have a final value of 75%,  then we conclude the model reaches our expectations.\n"
   ]
  },
  {
   "cell_type": "markdown",
   "metadata": {
    "cell_id": "6c5403ab6a824d789ff354ff3db38bd8",
    "deepnote_cell_type": "text-cell-h1",
    "formattedRanges": [],
    "is_collapsed": false,
    "tags": []
   },
   "source": [
    "# Preliminary results"
   ]
  },
  {
   "cell_type": "code",
   "execution_count": 10,
   "metadata": {
    "cell_id": "1d53b30ec4b54e338fd9c45010b55c27",
    "deepnote_cell_type": "code",
    "deepnote_to_be_reexecuted": false,
    "execution_millis": 186,
    "execution_start": 1678324661615,
    "source_hash": "68eb4427",
    "tags": []
   },
   "outputs": [],
   "source": [
    "from sklearn.model_selection import train_test_split\n",
    "from sklearn.metrics import mean_squared_error\n",
    "\n",
    "X_train, X_test, y_train, y_test = train_test_split(X, y, test_size=0.25, random_state=42)"
   ]
  },
  {
   "cell_type": "markdown",
   "metadata": {
    "cell_id": "4de9808810c043d68bf96a967fa967bb",
    "deepnote_cell_type": "text-cell-h3",
    "formattedRanges": [],
    "is_collapsed": false,
    "tags": []
   },
   "source": [
    "### Benchmark Model: Linear Regression"
   ]
  },
  {
   "cell_type": "code",
   "execution_count": 11,
   "metadata": {
    "cell_id": "561bdf8f2be444eb826f1519fad17800",
    "deepnote_cell_type": "code",
    "deepnote_to_be_reexecuted": false,
    "execution_millis": 136,
    "execution_start": 1678324661843,
    "source_hash": "48bc9080",
    "tags": []
   },
   "outputs": [
    {
     "name": "stdout",
     "output_type": "stream",
     "text": [
      "Training error:  16580769.834434798\n",
      "Testing error:  1.3250576334113597e+20\n"
     ]
    }
   ],
   "source": [
    "from sklearn.linear_model import LinearRegression\n",
    "\n",
    "lr = LinearRegression()\n",
    "lr.fit(X_train, y_train)\n",
    "y_pred_train = lr.predict(X_train)\n",
    "y_pred_test = lr.predict(X_test)\n",
    "train_e = mean_squared_error(y_train, y_pred_train)\n",
    "test_e = mean_squared_error(y_test, y_pred_test)\n",
    "print('Training error: ', train_e)\n",
    "print('Testing error: ', test_e)"
   ]
  },
  {
   "cell_type": "markdown",
   "metadata": {
    "cell_id": "3f6a2c89c73d44ffa9695198c70a080b",
    "deepnote_cell_type": "text-cell-p",
    "formattedRanges": [],
    "is_collapsed": false,
    "tags": []
   },
   "source": [
    "Our benchmark model built with linear regression has a very poor performance both on the train and the test sets, which implies that many features are not linearly correlated with price, and linear regression is not able to capture some of the true underlying relationships. This means that more complex models might be able to achieve better performance."
   ]
  },
  {
   "cell_type": "markdown",
   "metadata": {
    "cell_id": "ce19512ce8ed48e79b0124d7e171a858",
    "deepnote_cell_type": "text-cell-h3",
    "formattedRanges": [],
    "is_collapsed": false,
    "tags": []
   },
   "source": [
    "### Lasso Regression"
   ]
  },
  {
   "cell_type": "code",
   "execution_count": 12,
   "metadata": {
    "cell_id": "a7b6f639d23a437aa8e0e615c1dd0266",
    "deepnote_cell_type": "code",
    "deepnote_to_be_reexecuted": false,
    "execution_millis": 6298,
    "execution_start": 1678324661981,
    "source_hash": "5545bb63",
    "tags": []
   },
   "outputs": [
    {
     "name": "stdout",
     "output_type": "stream",
     "text": [
      "Training error:  16581790.769906051\n",
      "Testing error:  16810057.018396854\n",
      "/shared-libs/python3.9/py/lib/python3.9/site-packages/sklearn/linear_model/_coordinate_descent.py:648: ConvergenceWarning: Objective did not converge. You might want to increase the number of iterations, check the scale of the features or consider increasing regularisation. Duality gap: 3.292e+09, tolerance: 1.076e+08\n",
      "  model = cd_fast.enet_coordinate_descent(\n"
     ]
    }
   ],
   "source": [
    "from sklearn import linear_model\n",
    "\n",
    "lasso = linear_model.Lasso(alpha=0.2, warm_start=True, max_iter=2000)\n",
    "lasso.fit(X_train, y_train)\n",
    "y_pred_train = lasso.predict(X_train)\n",
    "y_pred_test = lasso.predict(X_test)\n",
    "train_e = mean_squared_error(y_train, y_pred_train)\n",
    "test_e = mean_squared_error(y_test, y_pred_test)\n",
    "print('Training error: ', train_e)\n",
    "print('Testing error: ', test_e)"
   ]
  },
  {
   "cell_type": "markdown",
   "metadata": {
    "cell_id": "c8a7e40f754b4ee189da61c8511de78f",
    "deepnote_cell_type": "text-cell-p",
    "formattedRanges": [],
    "is_collapsed": false,
    "tags": []
   },
   "source": [
    "We notice that the training error and testing error are all extremely high with the default hyperparameters."
   ]
  },
  {
   "cell_type": "markdown",
   "metadata": {
    "cell_id": "d8965137-f2b3-4c7f-9e76-f85109a19bb6",
    "deepnote_cell_type": "text-cell-p",
    "formattedRanges": [
     {
      "fromCodePoint": 121,
      "marks": {
       "bold": true
      },
      "toCodePoint": 127,
      "type": "marks"
     },
     {
      "fromCodePoint": 131,
      "marks": {
       "bold": true
      },
      "toCodePoint": 139,
      "type": "marks"
     },
     {
      "fromCodePoint": 145,
      "marks": {
       "bold": true
      },
      "toCodePoint": 151,
      "type": "marks"
     },
     {
      "fromCodePoint": 427,
      "marks": {
       "bold": true
      },
      "toCodePoint": 432,
      "type": "marks"
     },
     {
      "fromCodePoint": 618,
      "marks": {
       "bold": true
      },
      "toCodePoint": 626,
      "type": "marks"
     },
     {
      "fromCodePoint": 768,
      "marks": {
       "bold": true
      },
      "toCodePoint": 776,
      "type": "marks"
     }
    ],
    "is_collapsed": false,
    "tags": []
   },
   "source": [
    "To find better hyperparameters, we can use the Gridsearchcv from Scikit-Learn. The hyperparameters we'd like to find are alpha and max_iter. The alpha hyperparameter controls the strength of this penalty term. Higher values of alpha result in stronger regularization and more aggressive shrinking of the coefficients, which can lead to a simpler and more interpretable model but may also result in higher bias. Lower values of alpha result in weaker regularization and less shrinking of the coefficients, which can lead to a more complex model that may overfit the training data but may also result in lower bias. The max_iter hyperparameter sets the maximum number of iterations that the optimization algorithm will run for. If the algorithm does not converge within max_iter iterations, it will stop and return the current estimate of the coefficients, even if it has not reached a true minimum of the loss function."
   ]
  },
  {
   "cell_type": "code",
   "execution_count": 13,
   "metadata": {
    "cell_id": "b5304d1a45df4d46961991ca65fb7c30",
    "deepnote_cell_type": "code",
    "deepnote_to_be_reexecuted": false,
    "execution_millis": 2,
    "execution_start": 1678324668281,
    "source_hash": "db141ca9",
    "tags": []
   },
   "outputs": [
    {
     "data": {
      "text/plain": [
       "'\\nfrom sklearn.linear_model import Lasso\\nfrom sklearn.model_selection import GridSearchCV\\nparam_grid = {\\n    \\'alpha\\': [0.1, 0.5, 1.0, 2.0, 5.0, 10.0],\\n    \\'max_iter\\': [1000, 5000, 10000]\\n}\\n\\n# Define Lasso model\\nlasso = Lasso()\\n\\n# Perform grid search\\ngrid_search_lasso = GridSearchCV(lasso, param_grid=param_grid, cv=5)\\ngrid_search_lasso.fit(X_train, y_train)\\n\\n# Print best hyperparameters and corresponding score\\nprint(\"Best hyperparameters: \", grid_search_lasso.best_params_)\\nprint(\"Best score: \", grid_search_lasso.best_score_)\\n\\n#Best hyperparameters:  {\\'alpha\\': 1.0, \\'max_iter\\': 5000}\\n#Best score:  0.8734720527678654\\n'"
      ]
     },
     "execution_count": 13,
     "metadata": {},
     "output_type": "execute_result"
    }
   ],
   "source": [
    "'''\n",
    "from sklearn.linear_model import Lasso\n",
    "from sklearn.model_selection import GridSearchCV\n",
    "param_grid = {\n",
    "    'alpha': [0.1, 0.5, 1.0, 2.0, 5.0, 10.0],\n",
    "    'max_iter': [1000, 5000, 10000]\n",
    "}\n",
    "\n",
    "# Define Lasso model\n",
    "lasso = Lasso()\n",
    "\n",
    "# Perform grid search\n",
    "grid_search_lasso = GridSearchCV(lasso, param_grid=param_grid, cv=5)\n",
    "grid_search_lasso.fit(X_train, y_train)\n",
    "\n",
    "# Print best hyperparameters and corresponding score\n",
    "print(\"Best hyperparameters: \", grid_search_lasso.best_params_)\n",
    "print(\"Best score: \", grid_search_lasso.best_score_)\n",
    "\n",
    "#Best hyperparameters:  {'alpha': 1.0, 'max_iter': 5000}\n",
    "#Best score:  0.8734720527678654\n",
    "'''"
   ]
  },
  {
   "cell_type": "markdown",
   "metadata": {
    "cell_id": "04d88d7778e44862b1b819d2a220216c",
    "deepnote_cell_type": "text-cell-p",
    "formattedRanges": [
     {
      "fromCodePoint": 53,
      "marks": {
       "bold": true
      },
      "toCodePoint": 63,
      "type": "marks"
     },
     {
      "fromCodePoint": 68,
      "marks": {
       "bold": true
      },
      "toCodePoint": 83,
      "type": "marks"
     }
    ],
    "is_collapsed": false,
    "tags": []
   },
   "source": [
    "From the Gridsearch, we have the best combinations of alpha = 1 and max_iter = 5000, let's plug them into the final model for prediction."
   ]
  },
  {
   "cell_type": "markdown",
   "metadata": {
    "cell_id": "175fd8cb-4440-4df7-9e52-0fdcff9f43f8",
    "deepnote_cell_type": "text-cell-p",
    "formattedRanges": [
     {
      "fromCodePoint": 0,
      "marks": {
       "bold": true
      },
      "toCodePoint": 25,
      "type": "marks"
     }
    ],
    "is_collapsed": false,
    "tags": []
   },
   "source": [
    "**Improved Lasso Regression**"
   ]
  },
  {
   "cell_type": "code",
   "execution_count": 14,
   "metadata": {
    "cell_id": "7dae981e26bf43b5a8c51eaa57291f30",
    "deepnote_cell_type": "code",
    "deepnote_to_be_reexecuted": false,
    "execution_millis": 1503,
    "execution_start": 1678324668371,
    "source_hash": "8598a8ae",
    "tags": []
   },
   "outputs": [
    {
     "name": "stdout",
     "output_type": "stream",
     "text": [
      "16849365.54805841\n"
     ]
    }
   ],
   "source": [
    "from sklearn.linear_model import Lasso\n",
    "lasso = Lasso(alpha = 1.0, max_iter = 5000)\n",
    "lasso.fit(X_train, y_train)\n",
    "y_pred = lasso.predict(X_test)\n",
    "MSE = mean_squared_error(y_test,y_pred)\n",
    "print('Testing error: ',MSE)"
   ]
  },
  {
   "cell_type": "markdown",
   "metadata": {
    "cell_id": "68b9cdbc1c9d44eebf9bc177de784921",
    "deepnote_cell_type": "text-cell-p",
    "formattedRanges": [],
    "is_collapsed": false,
    "tags": []
   },
   "source": [
    "Compared to our goal of an MSE that is less than 40000, the MSE result we got from the improved lasso model is far away from our expectations. So Lasso regression might not be a good choice for the prediction model."
   ]
  },
  {
   "cell_type": "markdown",
   "metadata": {
    "cell_id": "ad677ecf01df4b20b7d5f52c6636525f",
    "deepnote_cell_type": "text-cell-h3",
    "formattedRanges": [],
    "is_collapsed": false,
    "tags": []
   },
   "source": [
    "### Ridge Regression"
   ]
  },
  {
   "cell_type": "code",
   "execution_count": 15,
   "metadata": {
    "cell_id": "46a5faf04c184da49a2de7caa43cba66",
    "deepnote_cell_type": "code",
    "deepnote_to_be_reexecuted": false,
    "execution_millis": 9,
    "execution_start": 1678324669876,
    "source_hash": "5c24a5e9",
    "tags": []
   },
   "outputs": [
    {
     "name": "stdout",
     "output_type": "stream",
     "text": [
      "Training error:  16612851.648521783\n",
      "Testing error:  16871047.550878268\n"
     ]
    }
   ],
   "source": [
    "from sklearn.linear_model import Ridge\n",
    "\n",
    "ridge = Ridge()\n",
    "ridge.fit(X_train, y_train)\n",
    "y_pred_train = ridge.predict(X_train)\n",
    "y_pred_test = ridge.predict(X_test)\n",
    "train_e = mean_squared_error(y_train, y_pred_train)\n",
    "test_e = mean_squared_error(y_test, y_pred_test)\n",
    "print('Training error: ', train_e)\n",
    "print('Testing error: ', test_e)"
   ]
  },
  {
   "cell_type": "markdown",
   "metadata": {
    "cell_id": "72d6c04f798e4a0dbbd265b8fcbdcac8",
    "deepnote_cell_type": "text-cell-p",
    "formattedRanges": [],
    "is_collapsed": false,
    "tags": []
   },
   "source": [
    "The training error and testing error of the default ridge regression are similar to those of the default lasso regression."
   ]
  },
  {
   "cell_type": "markdown",
   "metadata": {
    "cell_id": "2270eb1d-f9f4-47e3-8c24-8996a73b6325",
    "deepnote_cell_type": "text-cell-p",
    "formattedRanges": [
     {
      "fromCodePoint": 120,
      "marks": {
       "bold": true
      },
      "toCodePoint": 125,
      "type": "marks"
     },
     {
      "fromCodePoint": 130,
      "marks": {
       "bold": true
      },
      "toCodePoint": 138,
      "type": "marks"
     }
    ],
    "is_collapsed": false,
    "tags": []
   },
   "source": [
    "We decide to do the same hyperparameter search for the ridge regression. The hyperparameters we intend to find are also alpha and max_iter."
   ]
  },
  {
   "cell_type": "code",
   "execution_count": 16,
   "metadata": {
    "cell_id": "3c4b840f40e04f0f9521f00d9a73d195",
    "deepnote_cell_type": "code",
    "deepnote_to_be_reexecuted": false,
    "execution_millis": 86,
    "execution_start": 1678324669887,
    "source_hash": "7276f7e8",
    "tags": []
   },
   "outputs": [
    {
     "data": {
      "text/plain": [
       "'\\nfrom sklearn.linear_model import Ridge\\nfrom sklearn.model_selection import GridSearchCV\\n# Define hyperparameters to tune over\\nparam_grid = {\\n    \\'alpha\\': [0.1, 0.5, 1.0, 2.0, 5.0, 10.0],\\n    \\'max_iter\\': [1000, 5000, 10000]\\n}\\n\\n# Define Ridge model\\nridge = Ridge()\\n\\n# Perform grid search\\ngrid_search = GridSearchCV(ridge, param_grid=param_grid, cv=5)\\ngrid_search.fit(X, y)\\n\\n# Print best hyperparameters and corresponding score\\nprint(f\"Best hyperparameters: {grid_search.best_params_}\")\\nprint(f\"Best score: {grid_search.best_score_}\")\\nBest hyperparameters: {\\'alpha\\': 0.5, \\'max_iter\\': 1000}\\nBest score: 0.858506481545551\\n'"
      ]
     },
     "execution_count": 16,
     "metadata": {},
     "output_type": "execute_result"
    }
   ],
   "source": [
    "'''\n",
    "from sklearn.linear_model import Ridge\n",
    "from sklearn.model_selection import GridSearchCV\n",
    "# Define hyperparameters to tune over\n",
    "param_grid = {\n",
    "    'alpha': [0.1, 0.5, 1.0, 2.0, 5.0, 10.0],\n",
    "    'max_iter': [1000, 5000, 10000]\n",
    "}\n",
    "\n",
    "# Define Ridge model\n",
    "ridge = Ridge()\n",
    "\n",
    "# Perform grid search\n",
    "grid_search = GridSearchCV(ridge, param_grid=param_grid, cv=5)\n",
    "grid_search.fit(X, y)\n",
    "\n",
    "# Print best hyperparameters and corresponding score\n",
    "print(f\"Best hyperparameters: {grid_search.best_params_}\")\n",
    "print(f\"Best score: {grid_search.best_score_}\")\n",
    "Best hyperparameters: {'alpha': 0.5, 'max_iter': 1000}\n",
    "Best score: 0.858506481545551\n",
    "'''"
   ]
  },
  {
   "cell_type": "markdown",
   "metadata": {
    "cell_id": "36253217d81840bf81c983798f282d48",
    "deepnote_cell_type": "text-cell-p",
    "formattedRanges": [
     {
      "fromCodePoint": 60,
      "marks": {
       "bold": true
      },
      "toCodePoint": 71,
      "type": "marks"
     },
     {
      "fromCodePoint": 76,
      "marks": {
       "bold": true
      },
      "toCodePoint": 91,
      "type": "marks"
     }
    ],
    "is_collapsed": false,
    "tags": []
   },
   "source": [
    "The result we got from the Gridsearch is the combination of alpha = 0.5 and max_iter = 1000 which is different from that of Lasso Regression. Let's see if that is going to make Ridge Regression better than Lasso Regression or not."
   ]
  },
  {
   "cell_type": "markdown",
   "metadata": {
    "cell_id": "ba8babcb-afd9-4243-8aca-5fbb82578ba5",
    "deepnote_cell_type": "text-cell-p",
    "formattedRanges": [
     {
      "fromCodePoint": 0,
      "marks": {
       "bold": true
      },
      "toCodePoint": 25,
      "type": "marks"
     }
    ],
    "is_collapsed": false,
    "tags": []
   },
   "source": [
    "**Improved Ridge Regression**"
   ]
  },
  {
   "cell_type": "code",
   "execution_count": 17,
   "metadata": {
    "cell_id": "4051213ffbb446e28a1158ee5a4163fb",
    "deepnote_cell_type": "code",
    "deepnote_to_be_reexecuted": false,
    "execution_millis": 50,
    "execution_start": 1678324669975,
    "source_hash": "18977fa7",
    "tags": []
   },
   "outputs": [
    {
     "name": "stdout",
     "output_type": "stream",
     "text": [
      "16829772.06465514\n"
     ]
    }
   ],
   "source": [
    "ridge = Ridge(alpha = 0.5, max_iter = 1000)\n",
    "ridge.fit(X_train,y_train)\n",
    "y_pred = ridge.predict(X_test)\n",
    "MSE = mean_squared_error(y_test,y_pred)\n",
    "print('Testing error: ',MSE)"
   ]
  },
  {
   "cell_type": "markdown",
   "metadata": {
    "cell_id": "da0268aa51d744bfbcb788c6f62b0796",
    "deepnote_cell_type": "text-cell-p",
    "formattedRanges": [],
    "is_collapsed": false,
    "tags": []
   },
   "source": [
    "Sadly, the Ridge Regression is only making a small progress."
   ]
  },
  {
   "cell_type": "markdown",
   "metadata": {
    "cell_id": "53e0d8be7b354168aca6e6b1173a1af9",
    "deepnote_cell_type": "text-cell-h3",
    "formattedRanges": [],
    "is_collapsed": false,
    "tags": []
   },
   "source": [
    "### Random Forest"
   ]
  },
  {
   "cell_type": "code",
   "execution_count": 18,
   "metadata": {
    "cell_id": "a1ecd4a42cbf4e718ef186230921b13f",
    "deepnote_cell_type": "code",
    "deepnote_to_be_reexecuted": false,
    "execution_millis": 2036,
    "execution_start": 1678324670024,
    "source_hash": "670f8df4",
    "tags": []
   },
   "outputs": [
    {
     "name": "stdout",
     "output_type": "stream",
     "text": [
      "Training error:  826193.0070226366\n",
      "Testing error:  5616392.880981199\n"
     ]
    }
   ],
   "source": [
    "from sklearn.ensemble import RandomForestRegressor\n",
    "\n",
    "rf = RandomForestRegressor(random_state=42)\n",
    "rf.fit(X_train, y_train)\n",
    "y_pred_train = rf.predict(X_train)\n",
    "y_pred_test = rf.predict(X_test)\n",
    "train_e = mean_squared_error(y_train, y_pred_train)\n",
    "test_e = mean_squared_error(y_test, y_pred_test)\n",
    "print('Training error: ', train_e)\n",
    "print('Testing error: ', test_e)"
   ]
  },
  {
   "cell_type": "markdown",
   "metadata": {
    "cell_id": "9b7b0846-aa27-49cf-bfa5-84dca67fc3bb",
    "deepnote_cell_type": "text-cell-p",
    "formattedRanges": [],
    "is_collapsed": false,
    "tags": []
   },
   "source": [
    "Using Random Rorest with default hyperparameter values, both the training and testing error decreased significantly. "
   ]
  },
  {
   "cell_type": "markdown",
   "metadata": {
    "cell_id": "e8df48f2fdb3494da7d61c0a69ae59d5",
    "deepnote_cell_type": "text-cell-p",
    "formattedRanges": [
     {
      "fromCodePoint": 12,
      "marks": {
       "bold": true
      },
      "toCodePoint": 23,
      "type": "marks"
     }
    ],
    "is_collapsed": false,
    "tags": []
   },
   "source": [
    "Let's run a grid search on our Random Forest Regressor to find the best combination of hyperparameter values to optimize our model."
   ]
  },
  {
   "cell_type": "code",
   "execution_count": 19,
   "metadata": {
    "cell_id": "eb1fb7a88b40484381ed0d6647b88ef4",
    "deepnote_cell_type": "code",
    "deepnote_to_be_reexecuted": false,
    "execution_millis": 1,
    "execution_start": 1678324672062,
    "source_hash": "691d7537",
    "tags": []
   },
   "outputs": [],
   "source": [
    "# from sklearn.model_selection import GridSearchCV\n",
    "# from sklearn.model_selection import RepeatedKFold\n",
    "\n",
    "# param_grid = [{'n_estimators': [100, 200, 300],\n",
    "#                'min_samples_split': [2, 5, 10],\n",
    "#                'min_samples_leaf': [1, 2, 4],\n",
    "#                'max_depth': [5, 10, 20],\n",
    "#               }]\n",
    "# grid_search = GridSearchCV(rf, param_grid, cv=5, scoring='neg_mean_squared_error', verbose=10)\n",
    "# grid_search.fit(X, y)\n",
    "\n",
    "# print('Best hyperparameters:', grid_search.best_params_)\n",
    "# print('Best score:', grid_search.best_score_)\n",
    "\n",
    "# Best hyperparameters: {'max_depth': 20, 'min_samples_leaf': 1, 'min_samples_split': 2, 'n_estimators': 300}\n",
    "# Best cross-validation score: -6618947.124935618"
   ]
  },
  {
   "cell_type": "markdown",
   "metadata": {
    "cell_id": "c030ef5a2f524b6eb153b29774bd763d",
    "deepnote_cell_type": "text-cell-p",
    "formattedRanges": [],
    "is_collapsed": false,
    "tags": []
   },
   "source": [
    "Best hyperparameters: {'max_depth': 20, 'min_samples_leaf': 1, 'min_samples_split': 2, 'n_estimators': 300}\n",
    "Best cross-validation score: -6618947.124935618"
   ]
  },
  {
   "cell_type": "markdown",
   "metadata": {
    "cell_id": "31a5dcd523cd4c19bc39d3e690230af6",
    "deepnote_cell_type": "text-cell-p",
    "formattedRanges": [],
    "is_collapsed": false,
    "tags": []
   },
   "source": [
    "Plotting the train and test accuracy curves."
   ]
  },
  {
   "cell_type": "code",
   "execution_count": 20,
   "metadata": {
    "cell_id": "7bae88edf6934743872fc84c36b1b389",
    "deepnote_cell_type": "code",
    "deepnote_to_be_reexecuted": false,
    "execution_millis": 59542,
    "execution_start": 1678324672065,
    "source_hash": "2d6b27ca",
    "tags": []
   },
   "outputs": [
    {
     "data": {
      "image/png": "[encoded data removed]",
      "text/plain": [
       "<Figure size 1200x800 with 1 Axes>"
      ]
     },
     "metadata": {
      "image/png": {
       "height": 688,
       "width": 1023
      }
     },
     "output_type": "display_data"
    }
   ],
   "source": [
    "train_errors = []\n",
    "test_errors = []\n",
    "max_depth_range = range(5, 30, 2)\n",
    "for depth in max_depth_range:\n",
    "\n",
    "    rf = RandomForestRegressor(max_depth=depth, min_samples_leaf=1, min_samples_split=2, n_estimators=300,\n",
    "    random_state=42)\n",
    "    rf.fit(X_train, y_train)\n",
    "    train_errors.append(rf.score(X_train, y_train))\n",
    "    test_errors.append(rf.score(X_test, y_test))\n",
    "\n",
    "# Plot the errors as a function of max_depth\n",
    "plt.plot(max_depth_range, train_errors, label='Train accuracy')\n",
    "plt.plot(max_depth_range, test_errors, label='Test accuracy')\n",
    "plt.xlabel('max_depth')\n",
    "plt.ylabel('Accuracy')\n",
    "plt.legend()\n",
    "plt.show()"
   ]
  },
  {
   "cell_type": "markdown",
   "metadata": {
    "cell_id": "7e56776925494629bf58a3eb693c8065",
    "deepnote_cell_type": "text-cell-p",
    "formattedRanges": [
     {
      "fromCodePoint": 0,
      "marks": {
       "bold": true
      },
      "toCodePoint": 33,
      "type": "marks"
     }
    ],
    "is_collapsed": false,
    "tags": []
   },
   "source": [
    "Improved Random Forest Regressor:"
   ]
  },
  {
   "cell_type": "code",
   "execution_count": 21,
   "metadata": {
    "cell_id": "d056479ceca249bca50bd800e01c223f",
    "deepnote_cell_type": "code",
    "deepnote_to_be_reexecuted": false,
    "execution_millis": 3923,
    "execution_start": 1678324731651,
    "source_hash": "4339da62",
    "tags": []
   },
   "outputs": [
    {
     "name": "stdout",
     "output_type": "stream",
     "text": [
      "Testing error:  5326670.797744919\n"
     ]
    }
   ],
   "source": [
    "rf = RandomForestRegressor(max_depth=13, min_samples_leaf=1, min_samples_split=2, n_estimators=300,\n",
    "random_state=42)\n",
    "rf.fit(X_train, y_train)\n",
    "y_pred = rf.predict(X_test)\n",
    "rf_error = mean_squared_error(y_test, y_pred)\n",
    "print('Testing error: ', rf_error)"
   ]
  },
  {
   "cell_type": "markdown",
   "metadata": {
    "cell_id": "9c7a1f7b93754cbb94db9354c4793e51",
    "deepnote_cell_type": "text-cell-p",
    "formattedRanges": [],
    "is_collapsed": false,
    "tags": []
   },
   "source": [
    "Although the test error of our Random Forest Regressor did improve, it is far from our initial goal, which meant that we might need to spend more time on preprocessing."
   ]
  },
  {
   "cell_type": "markdown",
   "metadata": {
    "cell_id": "8522fdb2efc14bddb5af871cbdff80ff",
    "deepnote_cell_type": "text-cell-h3",
    "formattedRanges": [],
    "is_collapsed": false,
    "tags": []
   },
   "source": [
    "### Gradient Boosting Regression"
   ]
  },
  {
   "cell_type": "markdown",
   "metadata": {
    "cell_id": "6b3751d077cd4a58afcca2f2ac7e049c",
    "deepnote_cell_type": "text-cell-p",
    "formattedRanges": [],
    "is_collapsed": false,
    "tags": []
   },
   "source": [
    "Let's first take a look at how the Gradient Boosting Regression performs."
   ]
  },
  {
   "cell_type": "code",
   "execution_count": 22,
   "metadata": {
    "cell_id": "4a752d103fe84c45839f0cebc3e39b36",
    "deepnote_cell_type": "code",
    "deepnote_to_be_reexecuted": false,
    "execution_millis": 667,
    "execution_start": 1678324735578,
    "source_hash": "a1f2d02a",
    "tags": []
   },
   "outputs": [
    {
     "name": "stdout",
     "output_type": "stream",
     "text": [
      "Training error:  6854060.382106577\n",
      "Testing error:  7749231.7265657615\n"
     ]
    }
   ],
   "source": [
    "from sklearn.ensemble import GradientBoostingRegressor\n",
    "gbr = GradientBoostingRegressor()\n",
    "gbr.fit(X_train,y_train)\n",
    "y_pred_train = gbr.predict(X_train)\n",
    "y_pred_test = gbr.predict(X_test)\n",
    "train_e = mean_squared_error(y_train, y_pred_train)\n",
    "test_e = mean_squared_error(y_test, y_pred_test)\n",
    "print('Training error: ', train_e)\n",
    "print('Testing error: ', test_e)"
   ]
  },
  {
   "cell_type": "markdown",
   "metadata": {
    "cell_id": "2e8b9cd241fd4bcfb547729c08667dcf",
    "deepnote_cell_type": "text-cell-p",
    "formattedRanges": [],
    "is_collapsed": false,
    "tags": []
   },
   "source": [
    "**The hyperparameters we want to find are:**"
   ]
  },
  {
   "cell_type": "markdown",
   "metadata": {
    "cell_id": "3b9259ee-ef07-43de-9473-85dc2b0692f3",
    "deepnote_cell_type": "text-cell-p",
    "formattedRanges": [
     {
      "fromCodePoint": 0,
      "marks": {
       "bold": true
      },
      "toCodePoint": 14,
      "type": "marks"
     }
    ],
    "is_collapsed": false,
    "tags": []
   },
   "source": [
    "'learning_rate': This hyperparameter controls the step size at each iteration of the boosting process. A smaller learning rate usually leads to better results but requires more iterations."
   ]
  },
  {
   "cell_type": "markdown",
   "metadata": {
    "cell_id": "947ae63b-83db-49e5-bb1b-31daaa01cd8f",
    "deepnote_cell_type": "text-cell-p",
    "formattedRanges": [
     {
      "fromCodePoint": 0,
      "marks": {
       "bold": true
      },
      "toCodePoint": 14,
      "type": "marks"
     }
    ],
    "is_collapsed": false,
    "tags": []
   },
   "source": [
    "'n_estimators': This hyperparameter controls the number of boosting stages to perform. A higher number of estimators may lead to better results, but also increases the risk of overfitting."
   ]
  },
  {
   "cell_type": "markdown",
   "metadata": {
    "cell_id": "292afcda-19bb-425d-9bd9-26a0c0b194be",
    "deepnote_cell_type": "text-cell-p",
    "formattedRanges": [
     {
      "fromCodePoint": 0,
      "marks": {
       "bold": true
      },
      "toCodePoint": 11,
      "type": "marks"
     }
    ],
    "is_collapsed": false,
    "tags": []
   },
   "source": [
    "'max_depth': This hyperparameter controls the maximum depth of each tree in the boosting process. A deeper tree can model more complex relationships in the data, but also increases the risk of overfitting."
   ]
  },
  {
   "cell_type": "markdown",
   "metadata": {
    "cell_id": "84e9da0e-0fcd-4487-94fc-fc3d7542386f",
    "deepnote_cell_type": "text-cell-p",
    "formattedRanges": [
     {
      "fromCodePoint": 0,
      "marks": {
       "bold": true
      },
      "toCodePoint": 19,
      "type": "marks"
     }
    ],
    "is_collapsed": false,
    "tags": []
   },
   "source": [
    "'min_samples_split': This hyperparameter controls the minimum number of samples required to split an internal node in each tree. A higher value can prevent overfitting, but may also lead to underfitting."
   ]
  },
  {
   "cell_type": "markdown",
   "metadata": {
    "cell_id": "f604e2e9-5482-46d2-bd1d-10998725236c",
    "deepnote_cell_type": "text-cell-p",
    "formattedRanges": [
     {
      "fromCodePoint": 0,
      "marks": {
       "bold": true
      },
      "toCodePoint": 18,
      "type": "marks"
     }
    ],
    "is_collapsed": false,
    "tags": []
   },
   "source": [
    "'min_samples_lead': This hyperparameter controls the minimum number of samples required to be at a leaf node. A higher value can prevent overfitting, but may also lead to underfitting."
   ]
  },
  {
   "cell_type": "code",
   "execution_count": 24,
   "metadata": {
    "cell_id": "5e74215e8ac24208b0fe00c405344ffb",
    "deepnote_cell_type": "code",
    "deepnote_to_be_reexecuted": false,
    "execution_millis": 6,
    "execution_start": 1678328174764,
    "source_hash": "97a2cffe",
    "tags": []
   },
   "outputs": [
    {
     "data": {
      "text/plain": [
       "'\\nfrom sklearn.ensemble import GradientBoostingRegressor\\nfrom sklearn.model_selection import GridSearchCV\\nparam_grid = {\\n    \\'learning_rate\\': [0.1, 0.05, 0.01],\\n    \\'n_estimators\\': [100, 500, 1000],\\n    \\'max_depth\\': [3, 5, 7],\\n    \\'min_samples_split\\': [2, 5, 10],\\n    \\'min_samples_leaf\\': [1, 2, 4]\\n}\\n\\n# Define Gradient Boosting Regressor model\\ngb = GradientBoostingRegressor()\\n\\n# Perform grid search\\ngrid_search = GridSearchCV(gb, param_grid=param_grid, cv=5)\\ngrid_search.fit(X, y)\\n\\n# Print best hyperparameters and corresponding score\\nprint(f\"Best hyperparameters: {grid_search.best_params_}\")\\nprint(f\"Best score: {grid_search.best_score_}\")\\nBest hyperparameters: {\\'learning_rate\\': 0.1, \\'max_depth\\': 3, \\'min_samples_leaf\\': 2, \\'min_samples_split\\': 5, \\'n_estimators\\': 1000}\\nBest score: 0.9557639436928819\\n'"
      ]
     },
     "execution_count": 24,
     "metadata": {},
     "output_type": "execute_result"
    }
   ],
   "source": [
    "'''\n",
    "from sklearn.ensemble import GradientBoostingRegressor\n",
    "from sklearn.model_selection import GridSearchCV\n",
    "param_grid = {\n",
    "    'learning_rate': [0.1, 0.05, 0.01],\n",
    "    'n_estimators': [100, 500, 1000],\n",
    "    'max_depth': [3, 5, 7],\n",
    "    'min_samples_split': [2, 5, 10],\n",
    "    'min_samples_leaf': [1, 2, 4]\n",
    "}\n",
    "\n",
    "# Define Gradient Boosting Regressor model\n",
    "gb = GradientBoostingRegressor()\n",
    "\n",
    "# Perform grid search\n",
    "grid_search = GridSearchCV(gb, param_grid=param_grid, cv=5)\n",
    "grid_search.fit(X, y)\n",
    "\n",
    "# Print best hyperparameters and corresponding score\n",
    "print(f\"Best hyperparameters: {grid_search.best_params_}\")\n",
    "print(f\"Best score: {grid_search.best_score_}\")\n",
    "Best hyperparameters: {'learning_rate': 0.1, 'max_depth': 3, 'min_samples_leaf': 2, 'min_samples_split': 5, 'n_estimators': 1000}\n",
    "Best score: 0.9557639436928819\n",
    "'''"
   ]
  },
  {
   "cell_type": "markdown",
   "metadata": {
    "cell_id": "4d478d41498c4751ab9733e07c819515",
    "deepnote_cell_type": "text-cell-p",
    "formattedRanges": [
     {
      "fromCodePoint": 0,
      "marks": {
       "bold": true
      },
      "toCodePoint": 37,
      "type": "marks"
     }
    ],
    "is_collapsed": false,
    "tags": []
   },
   "source": [
    "**Improved Gradient Boosting Regression**"
   ]
  },
  {
   "cell_type": "code",
   "execution_count": 25,
   "metadata": {
    "cell_id": "833db5df661c4a9786fdcf2a7d21413d",
    "deepnote_cell_type": "code",
    "deepnote_to_be_reexecuted": false,
    "execution_millis": 6619,
    "execution_start": 1678328175437,
    "source_hash": "b9a08425",
    "tags": []
   },
   "outputs": [
    {
     "name": "stdout",
     "output_type": "stream",
     "text": [
      "Testing error:  5536510.84849642\n"
     ]
    }
   ],
   "source": [
    "gbr = GradientBoostingRegressor(learning_rate = 0.1, max_depth = 3, min_samples_leaf = 2, min_samples_split = 5, n_estimators = 1000)\n",
    "gbr.fit(X_train,y_train)\n",
    "y_pred = gbr.predict(X_test)\n",
    "MSE = mean_squared_error(y_test,y_pred)\n",
    "print('Testing error: ',MSE)"
   ]
  },
  {
   "cell_type": "markdown",
   "metadata": {
    "cell_id": "9dcf68fe4fed41748c16d091895395ce",
    "deepnote_cell_type": "text-cell-p",
    "formattedRanges": [],
    "is_collapsed": false,
    "tags": []
   },
   "source": [
    "Unfortunately, the result we got from gradient boosting regression is not satisfying. The MSE of 5536510 is far beyond our standard of 40000."
   ]
  },
  {
   "cell_type": "markdown",
   "metadata": {
    "cell_id": "fb503cce9d6e47e3bc318a72b14a75a3",
    "deepnote_cell_type": "text-cell-h3",
    "formattedRanges": [],
    "is_collapsed": false,
    "tags": []
   },
   "source": [
    "### Next Steps:"
   ]
  },
  {
   "cell_type": "markdown",
   "metadata": {
    "cell_id": "e53479ba-9e8d-4d97-a95e-e0a3598accc4",
    "deepnote_cell_type": "text-cell-p",
    "formattedRanges": [],
    "is_collapsed": false,
    "tags": []
   },
   "source": [
    "Since none of the proposed models achieved high enough accuracy, we will go back to data preprocessing and use PCA to hopefully filter out the nonimportant features to see if it will improve model performance. Linear regression is clearly shown to not be a good fit for the dataset, so we will focus on the other models in the next stage. In addition, we will also try stacking of several different models. "
   ]
  },
  {
   "cell_type": "markdown",
   "metadata": {
    "cell_id": "8d483864566646a38a2e414274c0a182",
    "deepnote_cell_type": "markdown"
   },
   "source": [
    "# Ethics & Privacy"
   ]
  },
  {
   "cell_type": "markdown",
   "metadata": {
    "cell_id": "e30f4eb854c846e1b02b56c8a5535bf5",
    "deepnote_cell_type": "markdown"
   },
   "source": [
    "There are no buyer’s name or seller’s name or car VIN number recorded in this dataset, so we are not worried about putting the car owner’s information at risk. We downloaded this dataset from Kaggle, and the owner of this dataset announced that this dataset is open to the public and there’s no copyright. The unintended consequence of the model we built is it might disturb the used car market, if there is an ongoing event that decreases all used car’s values and we still predict the car price as high as before, the buyer still lists a high car price according to our mode, he/she will fail to sell the car. To address this issue, we will inform our users that the predicted car value is only for reference, the actual car price might fluctuate according to the changes. "
   ]
  },
  {
   "cell_type": "markdown",
   "metadata": {
    "cell_id": "0837966018a74071b5dc25601549b025",
    "deepnote_cell_type": "markdown"
   },
   "source": [
    "# Team Expectations "
   ]
  },
  {
   "cell_type": "markdown",
   "metadata": {
    "cell_id": "32e219dbb44f406c90e366f12a09b8db",
    "deepnote_cell_type": "markdown"
   },
   "source": [
    "- Communication within our group should always be in time and efficient, and we would use hybrid form to make sure the efficiency of our discussion(online like zoom meeting, in-person meeting in study room)\n",
    "\n",
    "\n",
    "- For different decision making in our project, if there are some different perspectives and suggestions from group members, we should have a nice and positive discussion no matter online or in-person. The final decision should be voted by other members to decide the better direction for the project.\n",
    "\n",
    "\n",
    "- It is also important to make sure the workload for every member is almost equal, but flexibility is needed with changing situations. For example, some members might be good at some imperative parts of the project, which other members are not familiar with. Other members should also help with experts in those parts.\n",
    "\n",
    "\n",
    "- Not only making a project would yield a high score is important, helping each other to improve skills like coding during the process is also one of our ultimate goals.\n",
    "\n",
    "\n",
    "- Every member should try his/her best to fulfill their responsibilities. If something out of control happens, group members should help each other out instead of blaming each other. It is also another aspect of flexibility.\n",
    "\n",
    "\n",
    "- Be nice, and be patient!!!\n",
    "\n",
    "\n",
    "- With great power comes great responsibility\n"
   ]
  },
  {
   "cell_type": "markdown",
   "metadata": {
    "cell_id": "95580abccfc245aeb40ba4a9953b7ce7",
    "deepnote_cell_type": "markdown"
   },
   "source": [
    "# Project Timeline Proposal"
   ]
  },
  {
   "cell_type": "markdown",
   "metadata": {
    "cell_id": "f76f0c3c2e8446b7844c5f36ea16692d",
    "deepnote_cell_type": "markdown"
   },
   "source": [
    "#### 1. Project planning and scoping (1 week: 02-22-2023)\n",
    "\n",
    "Discuss and define research questions\n",
    "Develop methodology and approach\n",
    "Create project plan and timeline\n",
    "Identify data sources\n",
    "\n",
    "#### 2. Data cleaning, further data collection and rough data analysis, rough model training (2 weeks: 03-08-2023)\n",
    "\n",
    "Filter data\n",
    "Rough analyze data collected from market reports, government publications, and other relevant sources \n",
    "Collect more datasets if needed\n",
    "Analyze findings from data collection\n",
    "Finalize an analytical tool and evaluation metrics\n",
    "Use algorithm to identify trends and patterns in the data\n",
    "Repeatedly train model on different data points\n",
    "\n",
    "#### 3. Further model training (1 week:  03-16-2023)\n",
    "       \n",
    "Use algorithm to identify trends and patterns in the data\n",
    "Repeatedly train model on different data points\n",
    "Evaluate the model and make changes until it provides an relatively accurate prediction\n",
    "\n",
    "#### 4. Synthesis, report writing(3 days:  03-19-2023)\n",
    "\n",
    "Develop insights and conclusions based on the research questions\n",
    "Write a comprehensive research report, including an executive summary, research methodology, findings, and recommendations\n",
    "Collect feedback and address any questions or concerns that arise\n",
    "\n",
    "#### 5. Finalize proposal and share (2 days: 03-21-2023)\n",
    "\n",
    "Modify and add details to proposal based on feedbacks\n",
    "\n"
   ]
  },
  {
   "cell_type": "markdown",
   "metadata": {
    "cell_id": "e334ccad92d2425caecb4b3717c94deb",
    "deepnote_cell_type": "markdown"
   },
   "source": [
    "# Footnotes\n",
    "\n",
    "<a name=\"blackbook\"></a>1.[^](#blackbook): Black Book. “Black Book Unveils History-Adjusted Vehicle Values for Auto Professionals.” Black Book, 22 Apr. 2020, https://www.blackbook.com/black-book-unveils-history-adjusted-vehicle-values-for-auto-professionals/. <br> \n",
    "<a name=\"Gokce\"></a>2.[^](#Gokce): Gokce, Enes. “Predicting Used Car Prices with Machine Learning Techniques.” Medium, Towards Data Science, 10 Jan. 2020, https://towardsdatascience.com/predicting-used-car-prices-with-machine-learning-techniques-8a9d8313952. <br> \n",
    "<a name=\"Bukvić\"></a>3.[^](#Bukvić): Bukvić, Lucija, Jasmina Pašagić Škrinjar, Tomislav Fratrović, and Borna Abramović. 2022. \"Price Prediction and Classification of Used-Vehicles Using Supervised Machine Learning\" Sustainability 14, no. 24: 17034. https://doi.org/10.3390/su142417034<br> \n",
    "<a name=\"Daneshjou\"></a>4.[^](#Daneshjou): Daneshjou, R., Smith, M. P., Sun, M. D., Rotemberg, V., & Zou, J. (2021). Lack of Transparency and Potential Bias in Artificial Intelligence Data Sets and Algorithms: A Scoping Review. JAMA dermatology, 157(11), 1362–1369. https://doi.org/10.1001/jamadermatol.2021.3129\n"
   ]
  },
  {
   "cell_type": "markdown",
   "metadata": {
    "created_in_deepnote_cell": true,
    "deepnote_cell_type": "markdown",
    "tags": []
   },
   "source": [
    "<a style='text-decoration:none;line-height:16px;display:flex;color:#5B5B62;padding:10px;justify-content:end;' href='https://deepnote.com?utm_source=created-in-deepnote-cell&projectId=e5da0bb5-fd8e-4902-b34c-4c4dd0498a85' target=\"_blank\">\n",
    "<img alt='Created in deepnote.com' style='display:inline;max-height:16px;margin:0px;margin-right:7.5px;' src='data:image/svg+xml;base64,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' > </img>\n",
    "Created in <span style='font-weight:600;margin-left:4px;'>Deepnote</span></a>"
   ]
  }
 ],
 "metadata": {
  "deepnote": {},
  "deepnote_execution_queue": [],
  "deepnote_notebook_id": "6a7ed993ea1840259c6dbaa95f45c55c",
  "kernelspec": {
   "display_name": "Python 3 (ipykernel)",
   "language": "python",
   "name": "python3"
  },
  "language_info": {
   "codemirror_mode": {
    "name": "ipython",
    "version": 3
   },
   "file_extension": ".py",
   "mimetype": "text/x-python",
   "name": "python",
   "nbconvert_exporter": "python",
   "pygments_lexer": "ipython3",
   "version": "3.9.5"
  }
 },
 "nbformat": 4,
 "nbformat_minor": 1
}
