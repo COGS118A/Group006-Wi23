{
 "cells": [
  {
   "cell_type": "markdown",
   "metadata": {},
   "source": [
    "# COGS 118A - Project Proposal - Used Car Valuation Tool"
   ]
  },
  {
   "cell_type": "markdown",
   "metadata": {},
   "source": [
    "# Names\n",
    "\n",
    "- Zhuotong Xie (Tom)\n",
    "- Jiawen Wang (Coco)\n",
    "- Sally Yu\n",
    "- Gaoying Wang\n"
   ]
  },
  {
   "cell_type": "markdown",
   "metadata": {},
   "source": [
    "# Abstract \n",
    "Our project is aiming to give audi owners a reasonable prediction about the selling price of their audi cars. It could also be helpful for audi lovers who have specific requirements for a used audi car. We use the UK Used Car Dataset from kaggle and we focus on only audi made. There are many features like mileage , year of registration and model. Most importantly, there is a price column in the dataset for us to split the training and testing. All the data variables are measured by the official British market, and all legal cars in the market would have the precize record for their features. Our project would mainly rely on polynomial regression to discover the complicated relationship between other features and prices. In addition, for certain features like model of car, we would use one-hot encoding to make categorical features normalized. Lastly, to check the prediction accuracy of our project, we made an evaluation metric which allows the MSE between prediction and actual price to be less than 200^2.  For the overall performance, we built another metric to set our goal of the correct rate being 75%(prediction within actual +/-200)."
   ]
  },
  {
   "cell_type": "markdown",
   "metadata": {},
   "source": [
    "# Background\n",
    "\n",
    "Car valuation websites have been around for several decades, and have evolved and improved significantly over time. The first car valuation guides were published in book form, and were typically used by car dealerships and other professionals in the automotive industry. An example is The Kelley Blue Book, which was first published in 1926 as a guide for car dealers to determine the value of trade-ins.\n",
    "\n",
    "\n",
    "In the early days, when selling a used car to a dealership, “automotive industry professionals check the vehicle’s history report and make an unscientific, educated guess as to its impact on the vehicle’s value.”<a name=\"blackbook\"></a>[<sup>[1]</sup>](#blackbook). This valuation process is subjective and problematic, and often leads to inaccurate estimations. As a solution, online car valuation sites began to emerge towards the late 90s. These tools typically required users to input basic information about a car, such as its make, model, year, and mileage, to generate an estimated value. These early online valuation tools were relatively simple and could only provide a rough estimate of the value of cars. \n",
    "\n",
    "\n",
    "As the Internet became more widespread and technology began to develop, the number of online car valuation tools grew markedly. In today’s world, there are numerous websites and apps that offer free and easily-accessible car valuation services, such as Kelley Blue Book, Cargurus, Edmunds, and Carfax, just to name a few. These tools have grown to be more elaborate and complex over time, utilizing machine learning algorithms and other techniques to produce more accurate estimates of a car's value <a name=\"Bukvić\"></a>[<sup>[3]</sup>](#Bukvić).\n",
    "\n",
    "\n",
    "Nowadays, car valuation websites have become an essential resource for people looking to buy or sell a used car. They provide potential buyers and sellers a good estimate of the value of a particular type of car, which can be useful in negotiating with dealerships or private sellers, and ensure them that they are getting a fair price. \n",
    "In recent years especially, used cars sales are on the rise on a global scale due to the increased price of new cars. There is a growing need for used car price prediction system that can effectively determine the worthiness of the car using a variety of features <a name=\"Gokce\"></a>[<sup>[2]</sup>](#Gokce). \n",
    "\n",
    "\n",
    "Even with continued advances, there are still issues with these valuation tools, namely the lack of transparency <a name=\"Daneshjou\"></a>[<sup>[4]</sup>](#Daneshjou) and limitation in data on certain models and makes of cars. In this project, we hope to build a model that can not only accurately predict the value of used Audi cars, but also provide a outline of how the algorithm arrives at its estimates so that users are able to understand the whole process. In addition, we decided to focus on Audi cars only so that we can explore the potential of particular features or built of Audi cars that may allow us to further optimize the accuracy of our predictions. \n",
    "\n",
    "\n"
   ]
  },
  {
   "cell_type": "markdown",
   "metadata": {},
   "source": [
    "# Problem Statement\n",
    "\n",
    "The main issues with car valuation tools that we want to address in this project are the lack of transparency in algorithms and the limitation in the type of data used to make price predictions. Many of the car valuation sites and apps provide an easy way for people to input a few basic information about a certain car, such as the model, make, and year, and instantly give out a value estimate. Although it is very convenient, these tools don’t provide users with an explanation of how the algorithm arrives at its estimate nor how accurate the estimation is likely. Furthermore, using only a few basic features, these algorithms are unlikely to capture the whole picture of each car in order to make high-accuracy predictions."
   ]
  },
  {
   "cell_type": "markdown",
   "metadata": {},
   "source": [
    "# Data\n",
    "\n",
    "#### UK Used Cars Dataset:\n",
    "https://www.kaggle.com/datasets/adityadesai13/used-car-dataset-ford-and-mercedes <br>\n",
    "(10668 observations and 9 variables) \n",
    "\n",
    "\n",
    "The dataset we downloaded contains several used car data in the UK in the past decade. There are different car makes in the dataset but we are mainly focusing on the Audi cars since we want to build a precise predictive model for the sellers and buyers that are interested in Audi used cars.\n",
    "\n",
    "\n",
    "The dataset contains 10668 observations and 9 variables, the 9 variables are model, year, price, transmission, mileage, fuel type, tax, mpg, and engine size, for the future machine learning processes, we will discard the tax since it is not helpful when predicting a used car’s value. \n",
    "We will use more datasets about audi cars if we can find any that can improve our prediction.\n"
   ]
  },
  {
   "cell_type": "markdown",
   "metadata": {},
   "source": [
    "# Proposed Solution\n",
    "\n",
    "Based on real data collected from the used car market, we will balance several factors and provide a reasonable estimation of car price.  Cars can have a wide range of unique features, in the dataset we used, there are currently 7 factors that will affect car price. Considering this, polynomial regression is applicable to make the prediction. It can capture more complex relationships between the features and the output variable compared to simple linear regression. For example, if the relationship between the model of a car and its price is not linear, but instead has a parabolic or cubic shape, then polynomial regression can capture this non-linear relationship. Also, we will try to find more specific data about Audi cars, which helps to predict the price and ensures the accuracy of our model.  However, it is important to select the degree of polynomial regression carefully. If the degree we selected is too high, it might be prone to overfitting. We can use cross - validation to evaluate the performance of the model on new data points and make adjustments to the model. Since our goal is to reduce the information asymmetry among buyers and sellers, we will provide a detailed explanation of the algorithm, making buyers aware of how the prediction was made. "
   ]
  },
  {
   "cell_type": "markdown",
   "metadata": {},
   "source": [
    "# Evaluation Metrics\n",
    "\n",
    "\n",
    "- We will be using MSE as one of the evaluation metrics. The reason why we come up with the idea of MSE is that we do not want the absolute difference between our predicted car price and the actual car price to be more than 200 euros. So, if the final MSE of the model is smaller than 200^2  = 40000, then the model reaches our satisfaction.\n",
    "\n",
    "\n",
    "- We also developed our own metric for this model. Since we do not want the absolute difference between the predicted car price and the actual car price to be more than 200, we can first calculate the absolute price difference and see what percentage of the results satisfy our requirement. If we have a final value of 75%,  then we conclude the model reaches our expectations.\n"
   ]
  },
  {
   "cell_type": "markdown",
   "metadata": {},
   "source": [
    "# Ethics & Privacy"
   ]
  },
  {
   "cell_type": "markdown",
   "metadata": {},
   "source": [
    "There are no buyer’s name or seller’s name or car VIN number recorded in this dataset, so we are not worried about putting the car owner’s information at risk. We downloaded this dataset from Kaggle, and the owner of this dataset announced that this dataset is open to the public and there’s no copyright. The unintended consequence of the model we built is it might disturb the used car market, if there is an ongoing event that decreases all used car’s values and we still predict the car price as high as before, the buyer still lists a high car price according to our mode, he/she will fail to sell the car. To address this issue, we will inform our users that the predicted car value is only for reference, the actual car price might fluctuate according to the changes. "
   ]
  },
  {
   "cell_type": "markdown",
   "metadata": {},
   "source": [
    "# Team Expectations "
   ]
  },
  {
   "cell_type": "markdown",
   "metadata": {},
   "source": [
    "- Communication within our group should always be in time and efficient, and we would use hybrid form to make sure the efficiency of our discussion(online like zoom meeting, in-person meeting in study room)\n",
    "\n",
    "\n",
    "- For different decision making in our project, if there are some different perspectives and suggestions from group members, we should have a nice and positive discussion no matter online or in-person. The final decision should be voted by other members to decide the better direction for the project.\n",
    "\n",
    "\n",
    "- It is also important to make sure the workload for every member is almost equal, but flexibility is needed with changing situations. For example, some members might be good at some imperative parts of the project, which other members are not familiar with. Other members should also help with experts in those parts.\n",
    "\n",
    "\n",
    "- Not only making a project would yield a high score is important, helping each other to improve skills like coding during the process is also one of our ultimate goals.\n",
    "\n",
    "\n",
    "- Every member should try his/her best to fulfill their responsibilities. If something out of control happens, group members should help each other out instead of blaming each other. It is also another aspect of flexibility.\n",
    "\n",
    "\n",
    "- Be nice, and be patient!!!\n",
    "\n",
    "\n",
    "- With great power comes great responsibility\n"
   ]
  },
  {
   "cell_type": "markdown",
   "metadata": {},
   "source": [
    "# Project Timeline Proposal"
   ]
  },
  {
   "cell_type": "markdown",
   "metadata": {},
   "source": [
    "#### 1. Project planning and scoping (1 week: 02-22-2023)\n",
    "\n",
    "Discuss and define research questions\n",
    "Develop methodology and approach\n",
    "Create project plan and timeline\n",
    "Identify data sources\n",
    "\n",
    "#### 2. Data cleaning, further data collection and rough data analysis (1.5 weeks: 03-03-2023)\n",
    "\n",
    "Filter data\n",
    "Rough analyze data collected from market reports, government publications, and other relevant sources \n",
    "Collect more datasets if needed\n",
    "Analyze findings from data collection\n",
    "Finalize an analytical tool and evaluation metrics\n",
    "\n",
    "#### 3. Data analysis and model training (2 weeks:  03-16-2023)\n",
    "       \n",
    "Use algorithm to identify trends and patterns in the data\n",
    "Repeatedly train model on different data points\n",
    "Evaluate the model and make changes until it provides an relatively accurate prediction\n",
    "\n",
    "#### 4. Synthesis, report writing(3 days:  03-19-2023)\n",
    "\n",
    "Develop insights and conclusions based on the research questions\n",
    "Write a comprehensive research report, including an executive summary, research methodology, findings, and recommendations\n",
    "Collect feedback and address any questions or concerns that arise\n",
    "\n",
    "#### 5. Finalize proposal and share (2 days: 03-21-2023)\n",
    "\n",
    "Modify and add details to proposal based on feedbacks\n",
    "\n"
   ]
  },
  {
   "cell_type": "markdown",
   "metadata": {},
   "source": [
    "# Footnotes\n",
    "\n",
    "<a name=\"blackbook\"></a>1.[^](#blackbook): Black Book. “Black Book Unveils History-Adjusted Vehicle Values for Auto Professionals.” Black Book, 22 Apr. 2020, https://www.blackbook.com/black-book-unveils-history-adjusted-vehicle-values-for-auto-professionals/. <br> \n",
    "<a name=\"Gokce\"></a>2.[^](#Gokce): Gokce, Enes. “Predicting Used Car Prices with Machine Learning Techniques.” Medium, Towards Data Science, 10 Jan. 2020, https://towardsdatascience.com/predicting-used-car-prices-with-machine-learning-techniques-8a9d8313952. <br> \n",
    "<a name=\"Bukvić\"></a>3.[^](#Bukvić): Bukvić, Lucija, Jasmina Pašagić Škrinjar, Tomislav Fratrović, and Borna Abramović. 2022. \"Price Prediction and Classification of Used-Vehicles Using Supervised Machine Learning\" Sustainability 14, no. 24: 17034. https://doi.org/10.3390/su142417034<br> \n",
    "<a name=\"Daneshjou\"></a>4.[^](#Daneshjou): Daneshjou, R., Smith, M. P., Sun, M. D., Rotemberg, V., & Zou, J. (2021). Lack of Transparency and Potential Bias in Artificial Intelligence Data Sets and Algorithms: A Scoping Review. JAMA dermatology, 157(11), 1362–1369. https://doi.org/10.1001/jamadermatol.2021.3129\n"
   ]
  }
 ],
 "metadata": {
  "kernelspec": {
   "display_name": "Python 3 (ipykernel)",
   "language": "python",
   "name": "python3"
  },
  "language_info": {
   "codemirror_mode": {
    "name": "ipython",
    "version": 3
   },
   "file_extension": ".py",
   "mimetype": "text/x-python",
   "name": "python",
   "nbconvert_exporter": "python",
   "pygments_lexer": "ipython3",
   "version": "3.9.5"
  }
 },
 "nbformat": 4,
 "nbformat_minor": 2
}
